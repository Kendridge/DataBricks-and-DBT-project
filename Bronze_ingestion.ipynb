{
 "cells": [
  {
   "cell_type": "code",
   "execution_count": 0,
   "metadata": {
    "application/vnd.databricks.v1+cell": {
     "cellMetadata": {
      "byteLimit": 2048000,
      "rowLimit": 10000
     },
     "inputWidgets": {},
     "nuid": "762ef9a2-4b19-4c55-a9fa-c718b9a1e4a7",
     "showTitle": false,
     "tableResultSettingsMap": {},
     "title": ""
    }
   },
   "outputs": [],
   "source": [
    "df = spark.read.format(\"csv\")\\\n",
    "    .option(\"header\",True)\\\n",
    "    .option(\"inferSchema\",True)\\\n",
    "    .load(\"/Volumes/pysparkdbt/source/source_data/customers/\")"
   ]
  },
  {
   "cell_type": "markdown",
   "metadata": {
    "application/vnd.databricks.v1+cell": {
     "cellMetadata": {},
     "inputWidgets": {},
     "nuid": "677dd27d-2ca2-4427-83b1-8bf99a8043bc",
     "showTitle": false,
     "tableResultSettingsMap": {},
     "title": ""
    }
   },
   "source": [
    "### **SPARK STREAMING**"
   ]
  },
  {
   "cell_type": "code",
   "execution_count": 0,
   "metadata": {
    "application/vnd.databricks.v1+cell": {
     "cellMetadata": {
      "byteLimit": 2048000,
      "rowLimit": 10000
     },
     "inputWidgets": {},
     "nuid": "9583f2ec-e9e2-4eca-928b-d9253812057c",
     "showTitle": false,
     "tableResultSettingsMap": {},
     "title": ""
    }
   },
   "outputs": [],
   "source": [
    "entities = ['customers','trips','locations','payments','vehicles','drivers']"
   ]
  },
  {
   "cell_type": "code",
   "execution_count": 0,
   "metadata": {
    "application/vnd.databricks.v1+cell": {
     "cellMetadata": {
      "byteLimit": 2048000,
      "rowLimit": 10000
     },
     "inputWidgets": {},
     "nuid": "e531af1c-b87e-43b3-a583-2a00ab5228f9",
     "showTitle": false,
     "tableResultSettingsMap": {},
     "title": ""
    }
   },
   "outputs": [],
   "source": [
    "for entity in entities: \n",
    "\n",
    "        df_batch = spark.read.format(\"csv\")\\\n",
    "                 .option(\"header\",True)\\\n",
    "                 .option(\"inferSchema\",True)\\\n",
    "                 .load(f\"/Volumes/pysparkdbt/source/source_data/{entity}/\")\n",
    "\n",
    "        schema_entity = df_batch.schema\n",
    "  \n",
    "        df = spark.readStream.format(\"csv\")\\\n",
    "                 .option(\"header\",True)\\\n",
    "                 .schema(schema_entity)\\\n",
    "                 .load(f\"/Volumes/pysparkdbt/source/source_data/{entity}/\") \n",
    "\n",
    "        df.writeStream.format(\"delta\")\\\n",
    "                 .outputMode(\"append\")\\\n",
    "                 .option(\"checkpointLocation\", f\"/Volumes/pysparkdbt/bronze/checkpoint/{entity}\")\\\n",
    "                 .trigger(once=True)\\\n",
    "                 .toTable(f\"pysparkdbt.bronze.{entity}\")"
   ]
  }
 ],
 "metadata": {
  "application/vnd.databricks.v1+notebook": {
   "computePreferences": {
    "hardware": {
     "accelerator": null,
     "gpuPoolId": null,
     "memory": null
    }
   },
   "dashboards": [],
   "environmentMetadata": {
    "base_environment": "",
    "environment_version": "4"
   },
   "inputWidgetPreferences": null,
   "language": "python",
   "notebookMetadata": {
    "pythonIndentUnit": 4
   },
   "notebookName": "Bronze_ingestion",
   "widgets": {}
  },
  "language_info": {
   "name": "python"
  }
 },
 "nbformat": 4,
 "nbformat_minor": 0
}